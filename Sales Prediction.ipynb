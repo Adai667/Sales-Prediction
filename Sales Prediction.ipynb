{
 "cells": [
  {
   "cell_type": "markdown",
   "metadata": {},
   "source": [
    "## Import packages"
   ]
  },
  {
   "cell_type": "code",
   "execution_count": 2,
   "metadata": {
    "_cell_guid": "b1076dfc-b9ad-4769-8c92-a6c4dae69d19",
    "_uuid": "8f2839f25d086af736a60e9eeb907d3b93b6e0e5",
    "execution": {
     "iopub.execute_input": "2022-07-15T01:37:36.694435Z",
     "iopub.status.busy": "2022-07-15T01:37:36.694161Z",
     "iopub.status.idle": "2022-07-15T01:37:38.062544Z",
     "shell.execute_reply": "2022-07-15T01:37:38.061710Z",
     "shell.execute_reply.started": "2022-07-15T01:37:36.694407Z"
    }
   },
   "outputs": [],
   "source": [
    "import pandas as pd\n",
    "import numpy as np\n",
    "\n",
    "from sklearn.preprocessing import LabelEncoder\n",
    "from sklearn.metrics import mean_squared_error\n",
    "\n",
    "import xgboost as xgb\n",
    "\n",
    "from datetime import date, datetime\n",
    "import time\n",
    "import calendar\n",
    "\n",
    "import matplotlib.pyplot as plt\n",
    "import seaborn as sns"
   ]
  },
  {
   "cell_type": "markdown",
   "metadata": {},
   "source": [
    "## Load dataset"
   ]
  },
  {
   "cell_type": "code",
   "execution_count": 3,
   "metadata": {
    "execution": {
     "iopub.execute_input": "2022-07-15T01:37:39.441510Z",
     "iopub.status.busy": "2022-07-15T01:37:39.441224Z",
     "iopub.status.idle": "2022-07-15T01:37:42.758143Z",
     "shell.execute_reply": "2022-07-15T01:37:42.757381Z",
     "shell.execute_reply.started": "2022-07-15T01:37:39.441481Z"
    }
   },
   "outputs": [],
   "source": [
    "path = '../input/store-sales-time-series-forecasting/'\n",
    "\n",
    "train = pd.read_csv(path + 'train.csv')\n",
    "test = pd.read_csv(path + 'test.csv')\n",
    "sub = pd.read_csv(path + 'sample_submission.csv')\n",
    "\n",
    "oil = pd.read_csv(path + 'oil.csv')\n",
    "holiday = pd.read_csv(path + 'holidays_events.csv')\n",
    "store = pd.read_csv(path + 'stores.csv')\n",
    "tran = pd.read_csv(path + 'transactions.csv')"
   ]
  },
  {
   "cell_type": "markdown",
   "metadata": {},
   "source": [
    "## EDA"
   ]
  },
  {
   "cell_type": "code",
   "execution_count": 14,
   "metadata": {
    "execution": {
     "iopub.execute_input": "2022-07-14T22:42:12.855483Z",
     "iopub.status.busy": "2022-07-14T22:42:12.854891Z",
     "iopub.status.idle": "2022-07-14T22:42:13.741534Z",
     "shell.execute_reply": "2022-07-14T22:42:13.740959Z",
     "shell.execute_reply.started": "2022-07-14T22:42:12.855445Z"
    }
   },
   "outputs": [],
   "source": [
    "data_oil = train[['date','sales']].copy()\n",
    "data_oil = data_oil.merge(oil, on='date', how='left').fillna('0')\n",
    "data_oil['dcoilwtico'] = data_oil['dcoilwtico'].astype(float)\n",
    "data_oil.corr()"
   ]
  },
  {
   "cell_type": "markdown",
   "metadata": {},
   "source": [
    "#### The correlation coefficient  between dcoilwtico and sales suggests that there's almost no relationship between these two variables."
   ]
  },
  {
   "cell_type": "code",
   "execution_count": 22,
   "metadata": {
    "execution": {
     "iopub.execute_input": "2022-07-14T22:52:39.699903Z",
     "iopub.status.busy": "2022-07-14T22:52:39.699618Z",
     "iopub.status.idle": "2022-07-14T22:52:40.093990Z",
     "shell.execute_reply": "2022-07-14T22:52:40.093425Z",
     "shell.execute_reply.started": "2022-07-14T22:52:39.699871Z"
    }
   },
   "outputs": [],
   "source": [
    "ax = train.hist(column = ['sales'],bins=100, alpha=0.5)"
   ]
  },
  {
   "cell_type": "code",
   "execution_count": 23,
   "metadata": {
    "execution": {
     "iopub.execute_input": "2022-07-14T22:53:15.026480Z",
     "iopub.status.busy": "2022-07-14T22:53:15.026126Z",
     "iopub.status.idle": "2022-07-14T22:53:15.576188Z",
     "shell.execute_reply": "2022-07-14T22:53:15.575128Z",
     "shell.execute_reply.started": "2022-07-14T22:53:15.026447Z"
    }
   },
   "outputs": [],
   "source": [
    "ax = train[train.sales != 0].hist(column = ['sales'],bins=100, alpha=0.5)"
   ]
  },
  {
   "cell_type": "markdown",
   "metadata": {},
   "source": [
    "#### The distribution of sales is positively skewed."
   ]
  },
  {
   "cell_type": "markdown",
   "metadata": {},
   "source": [
    "#### The impact of family feature on sales"
   ]
  },
  {
   "cell_type": "code",
   "execution_count": 37,
   "metadata": {
    "execution": {
     "iopub.execute_input": "2022-07-15T02:15:06.720431Z",
     "iopub.status.busy": "2022-07-15T02:15:06.719709Z",
     "iopub.status.idle": "2022-07-15T02:15:07.648001Z",
     "shell.execute_reply": "2022-07-15T02:15:07.647364Z",
     "shell.execute_reply.started": "2022-07-15T02:15:06.720392Z"
    }
   },
   "outputs": [],
   "source": [
    "plt.figure(figsize=(20,8))\n",
    "data_familes = train[['family','sales']].groupby('family').agg('mean').reset_index(level=0)\n",
    "data_familes.sort_values(by = 'sales', inplace = True)\n",
    "data_familes.head()\n",
    "ax = sns.barplot(y='family', x='sales', data=data_familes)"
   ]
  },
  {
   "cell_type": "markdown",
   "metadata": {},
   "source": [
    "#### Check the influence of holiday on sales"
   ]
  },
  {
   "cell_type": "code",
   "execution_count": 42,
   "metadata": {
    "execution": {
     "iopub.execute_input": "2022-07-15T02:31:36.807022Z",
     "iopub.status.busy": "2022-07-15T02:31:36.806724Z",
     "iopub.status.idle": "2022-07-15T02:31:37.962478Z",
     "shell.execute_reply": "2022-07-15T02:31:37.961587Z",
     "shell.execute_reply.started": "2022-07-15T02:31:36.806990Z"
    }
   },
   "outputs": [],
   "source": [
    "data_holiday = train[['date','sales']].copy()\n",
    "data_holiday = data_holiday.merge(holiday, on='date', how='left')\n",
    "data_familes = data_holiday.groupby('type')['sales'].agg('mean').reset_index(level=0)\n",
    "data_familes.sort_values(by = 'sales', inplace = True)\n",
    "ax = sns.barplot(x='type', y='sales', data=data_familes)"
   ]
  },
  {
   "cell_type": "markdown",
   "metadata": {},
   "source": [
    "#### The average sales of holidays is smaller than the average sales of work days."
   ]
  },
  {
   "cell_type": "markdown",
   "metadata": {},
   "source": [
    "#### Check the influence of transactions on sales"
   ]
  },
  {
   "cell_type": "code",
   "execution_count": 59,
   "metadata": {
    "execution": {
     "iopub.execute_input": "2022-07-15T02:53:32.258738Z",
     "iopub.status.busy": "2022-07-15T02:53:32.258451Z",
     "iopub.status.idle": "2022-07-15T02:53:41.781480Z",
     "shell.execute_reply": "2022-07-15T02:53:41.778110Z",
     "shell.execute_reply.started": "2022-07-15T02:53:32.258708Z"
    }
   },
   "outputs": [],
   "source": [
    "data_tran = train[['date', 'store_nbr','sales']].copy()\n",
    "data_tran = data_tran.merge(tran, on=['date', 'store_nbr'], how='left').fillna(0.0)\n",
    "data_tran['sales'] = data_tran['sales'].astype(int)\n",
    "data_tran['transactions'] = data_tran['transactions'].astype(int)\n",
    "ax = data_tran.plot.scatter(x='transactions',y='sales',c='DarkBlue',figsize=(10,5))"
   ]
  },
  {
   "cell_type": "code",
   "execution_count": 61,
   "metadata": {
    "execution": {
     "iopub.execute_input": "2022-07-15T02:55:55.943402Z",
     "iopub.status.busy": "2022-07-15T02:55:55.942838Z",
     "iopub.status.idle": "2022-07-15T02:56:05.711716Z",
     "shell.execute_reply": "2022-07-15T02:56:05.710690Z",
     "shell.execute_reply.started": "2022-07-15T02:55:55.943336Z"
    }
   },
   "outputs": [],
   "source": [
    "data_tran = train[['date', 'store_nbr','sales']].copy()\n",
    "data_tran = data_tran.merge(tran, on=['date', 'store_nbr'], how='left').fillna(0.0)\n",
    "data_tran['sales'] = np.log(data_tran['sales'] + 1).astype(int)\n",
    "data_tran['transactions'] = np.log(data_tran['transactions'] + 1).astype(int)\n",
    "ax = data_tran.plot.scatter(x='transactions',y='sales',c='DarkBlue',figsize=(10,5))"
   ]
  },
  {
   "cell_type": "markdown",
   "metadata": {},
   "source": [
    "## Preprocess datasets"
   ]
  },
  {
   "cell_type": "markdown",
   "metadata": {},
   "source": [
    "* add weekday, year, month, day and payday"
   ]
  },
  {
   "cell_type": "code",
   "execution_count": null,
   "metadata": {
    "execution": {
     "iopub.execute_input": "2022-07-14T08:13:01.319372Z",
     "iopub.status.busy": "2022-07-14T08:13:01.319052Z",
     "iopub.status.idle": "2022-07-14T08:13:16.978389Z",
     "shell.execute_reply": "2022-07-14T08:13:16.977075Z",
     "shell.execute_reply.started": "2022-07-14T08:13:01.319329Z"
    }
   },
   "outputs": [],
   "source": [
    "def preprocess_train(df):\n",
    "    df['date'] = df['date'].map(lambda x: date.fromisoformat(x))\n",
    "    df['weekday'] = df['date'].map(lambda x: x.weekday())\n",
    "    df['year'] = df['date'].map(lambda x: x.year)\n",
    "    df['month'] = df['date'].map(lambda x: x.month)\n",
    "    df['day'] = df['date'].map(lambda x: x.day)\n",
    "    df['eomd'] = df['date'].map(lambda x: calendar.monthrange(x.year, x.month)[1])\n",
    "    df['payday'] = ((df['day'] == df['eomd'])|(df['day'] == 15)).astype(int)\n",
    "    df.drop(['id', 'eomd'], axis=1, inplace=True)\n",
    "    return df\n",
    "\n",
    "train = preprocess_train(train)\n",
    "test = preprocess_train(test)"
   ]
  },
  {
   "cell_type": "markdown",
   "metadata": {},
   "source": [
    "* fill in NA values with month average oil price"
   ]
  },
  {
   "cell_type": "code",
   "execution_count": null,
   "metadata": {
    "execution": {
     "iopub.execute_input": "2022-07-14T08:13:16.981772Z",
     "iopub.status.busy": "2022-07-14T08:13:16.981092Z",
     "iopub.status.idle": "2022-07-14T08:13:17.002781Z",
     "shell.execute_reply": "2022-07-14T08:13:17.001704Z",
     "shell.execute_reply.started": "2022-07-14T08:13:16.981722Z"
    }
   },
   "outputs": [],
   "source": [
    "def preprocess_oil(oil):\n",
    "    oil['month'] = oil['date'].map(lambda x: int(x.replace('-', '')[:6]))\n",
    "    oil['month_avg'] = oil.groupby('month')['dcoilwtico'].transform('mean')\n",
    "    oil['tmp'] = oil['dcoilwtico'].map(np.isnan)\n",
    "    oil['month_avg'] = oil['tmp'] * oil['month_avg']\n",
    "    oil['dcoilwtico'].fillna(0, inplace=True)\n",
    "    oil['dcoilwtico'] = oil['dcoilwtico'] + oil['month_avg']\n",
    "    oil = oil.drop(['month', 'month_avg', 'tmp'], axis=1)\n",
    "    oil['date'] = oil['date'].map(lambda x: date.fromisoformat(x))\n",
    "    return oil\n",
    "\n",
    "oil = preprocess_oil(oil)"
   ]
  },
  {
   "cell_type": "markdown",
   "metadata": {},
   "source": [
    "* separate into three holiday types (national, regional and local) and event (FIFA World Cup etc)"
   ]
  },
  {
   "cell_type": "code",
   "execution_count": null,
   "metadata": {
    "execution": {
     "iopub.execute_input": "2022-07-14T08:13:17.006023Z",
     "iopub.status.busy": "2022-07-14T08:13:17.005635Z",
     "iopub.status.idle": "2022-07-14T08:13:17.035002Z",
     "shell.execute_reply": "2022-07-14T08:13:17.033979Z",
     "shell.execute_reply.started": "2022-07-14T08:13:17.005944Z"
    }
   },
   "outputs": [],
   "source": [
    "def preprocess_holiday(df):\n",
    "    df['date'] = df['date'].map(lambda x: date.fromisoformat(x))\n",
    "    df = df[(df['transferred']==False)&(df['type']!='Work Day')]\n",
    "    event = df[df['type']=='Event']\n",
    "    earthquake = event[event['description'].str.startswith('Terremoto Manabi')]\n",
    "    event = event[event['description'].str.startswith('Terremoto Manabi')==False]\n",
    "    return df, event, earthquake\n",
    "\n",
    "holiday, event, earthquake = preprocess_holiday(holiday)\n",
    "\n",
    "event = event[['date', 'description']]\n",
    "event.rename({'description': 'event_name'}, axis=1, inplace=True)\n",
    "\n",
    "earthquake = earthquake[['date', 'description']]\n",
    "earthquake.rename({'description': 'earthquake'}, axis=1, inplace=True)\n",
    "\n",
    "h_local = holiday[holiday['locale']=='Local']\n",
    "h_local = h_local[['date', 'locale_name', 'description']]\n",
    "h_local = h_local.rename({'locale_name': 'city', 'description': 'local_holiday_name'}, axis=1)\n",
    "\n",
    "h_regional = holiday[holiday['locale']=='Regional']\n",
    "h_regional = h_regional[['date', 'locale_name', 'description']]\n",
    "h_regional = h_regional.rename({'locale_name': 'state', 'description': 'regional_holiday_name'}, axis=1)\n",
    "\n",
    "h_national = holiday[holiday['locale']=='National']\n",
    "h_national = h_national[['date', 'description']]\n",
    "h_national = h_national.rename({'description': 'national_holiday_name'}, axis=1)"
   ]
  },
  {
   "cell_type": "markdown",
   "metadata": {},
   "source": [
    "## Merge datasets"
   ]
  },
  {
   "cell_type": "code",
   "execution_count": null,
   "metadata": {
    "execution": {
     "iopub.execute_input": "2022-07-14T08:13:17.036913Z",
     "iopub.status.busy": "2022-07-14T08:13:17.036471Z",
     "iopub.status.idle": "2022-07-14T08:13:55.628005Z",
     "shell.execute_reply": "2022-07-14T08:13:55.627141Z",
     "shell.execute_reply.started": "2022-07-14T08:13:17.036848Z"
    }
   },
   "outputs": [],
   "source": [
    "def merge_tables(df):\n",
    "    df = df.merge(oil, on='date', how='left')\n",
    "    df = df.merge(store, on='store_nbr', how='left')\n",
    "    df = df.merge(event, on='date', how='left').fillna('0')\n",
    "    df = df.merge(earthquake, on='date', how='left').fillna('0')\n",
    "    df = df.merge(h_local, on=['date', 'city'], how='left').fillna('0')\n",
    "    df = df.merge(h_regional, on=['date', 'state'], how='left').fillna('0')\n",
    "    df = df.merge(h_national, on='date', how='left').fillna('0')\n",
    "    df = df.merge(tran, on=['date', 'store_nbr'], how='left').fillna(0)\n",
    "\n",
    "    return df\n",
    "\n",
    "train = merge_tables(train)\n",
    "test = merge_tables(test)"
   ]
  },
  {
   "cell_type": "code",
   "execution_count": null,
   "metadata": {
    "execution": {
     "iopub.execute_input": "2022-07-14T08:13:55.629822Z",
     "iopub.status.busy": "2022-07-14T08:13:55.629546Z",
     "iopub.status.idle": "2022-07-14T08:13:55.883911Z",
     "shell.execute_reply": "2022-07-14T08:13:55.882707Z",
     "shell.execute_reply.started": "2022-07-14T08:13:55.629785Z"
    }
   },
   "outputs": [],
   "source": [
    "train['dcoilwtico'] = train['dcoilwtico'].astype(float)\n",
    "test['dcoilwtico'] = test['dcoilwtico'].astype(float)"
   ]
  },
  {
   "cell_type": "markdown",
   "metadata": {},
   "source": [
    "## Label encoding"
   ]
  },
  {
   "cell_type": "code",
   "execution_count": null,
   "metadata": {
    "execution": {
     "iopub.execute_input": "2022-07-14T08:13:55.896680Z",
     "iopub.status.busy": "2022-07-14T08:13:55.895506Z",
     "iopub.status.idle": "2022-07-14T08:14:04.883602Z",
     "shell.execute_reply": "2022-07-14T08:14:04.882496Z",
     "shell.execute_reply.started": "2022-07-14T08:13:55.896623Z"
    }
   },
   "outputs": [],
   "source": [
    "cat_features = ['family', 'store_nbr', 'city', 'state', 'type', 'cluster',\n",
    "                'event_name', 'earthquake', 'local_holiday_name', 'regional_holiday_name', 'national_holiday_name']\n",
    "for col in cat_features:\n",
    "    le = LabelEncoder()\n",
    "    train[col] = le.fit_transform(train[col])\n",
    "    test[col] = le.transform(test[col])"
   ]
  },
  {
   "cell_type": "markdown",
   "metadata": {},
   "source": [
    "## Set train period and validation period"
   ]
  },
  {
   "cell_type": "code",
   "execution_count": null,
   "metadata": {
    "execution": {
     "iopub.execute_input": "2022-07-14T08:14:04.890064Z",
     "iopub.status.busy": "2022-07-14T08:14:04.888870Z",
     "iopub.status.idle": "2022-07-14T08:14:27.024482Z",
     "shell.execute_reply": "2022-07-14T08:14:27.023689Z",
     "shell.execute_reply.started": "2022-07-14T08:14:04.889813Z"
    }
   },
   "outputs": [],
   "source": [
    "def preprocess_dataset(df, train_date: list, valid_date: list):\n",
    "    df['is_train'] = df['date'].map(lambda x: x in train_date)\n",
    "    df['is_valid'] = df['date'].map(lambda x: x in valid_date)\n",
    "    return df\n",
    "\n",
    "\n",
    "train_date = train['date'].unique()[-227:-31].tolist()\n",
    "valid_date = train['date'].unique()[-31:].tolist()\n",
    "train = preprocess_dataset(train, train_date, valid_date)"
   ]
  },
  {
   "cell_type": "code",
   "execution_count": null,
   "metadata": {
    "execution": {
     "iopub.execute_input": "2022-07-14T08:14:27.032946Z",
     "iopub.status.busy": "2022-07-14T08:14:27.030877Z",
     "iopub.status.idle": "2022-07-14T08:14:27.042275Z",
     "shell.execute_reply": "2022-07-14T08:14:27.041593Z",
     "shell.execute_reply.started": "2022-07-14T08:14:27.032905Z"
    }
   },
   "outputs": [],
   "source": [
    "print('train date from {} to {}'.format(min(train_date), max(train_date)))\n",
    "print('valid date from {} to {}'.format(min(valid_date), max(valid_date)))"
   ]
  },
  {
   "cell_type": "markdown",
   "metadata": {},
   "source": [
    "## Set X and y"
   ]
  },
  {
   "cell_type": "code",
   "execution_count": null,
   "metadata": {
    "execution": {
     "iopub.execute_input": "2022-07-14T08:14:27.047766Z",
     "iopub.status.busy": "2022-07-14T08:14:27.047059Z",
     "iopub.status.idle": "2022-07-14T08:14:27.630147Z",
     "shell.execute_reply": "2022-07-14T08:14:27.629424Z",
     "shell.execute_reply.started": "2022-07-14T08:14:27.047731Z"
    }
   },
   "outputs": [],
   "source": [
    "y = np.log(train['sales'] + 1)\n",
    "X_train = train.drop(['date', 'sales', 'year'], axis=1)\n",
    "X_test = test.drop(['date', 'year'], axis=1)"
   ]
  },
  {
   "cell_type": "code",
   "execution_count": null,
   "metadata": {
    "execution": {
     "iopub.execute_input": "2022-07-14T08:14:27.632743Z",
     "iopub.status.busy": "2022-07-14T08:14:27.631978Z",
     "iopub.status.idle": "2022-07-14T08:14:27.655571Z",
     "shell.execute_reply": "2022-07-14T08:14:27.654779Z",
     "shell.execute_reply.started": "2022-07-14T08:14:27.632702Z"
    }
   },
   "outputs": [],
   "source": [
    "X_train"
   ]
  },
  {
   "cell_type": "markdown",
   "metadata": {},
   "source": [
    "## Run XGB"
   ]
  },
  {
   "cell_type": "code",
   "execution_count": null,
   "metadata": {
    "execution": {
     "iopub.execute_input": "2022-07-14T08:14:27.657285Z",
     "iopub.status.busy": "2022-07-14T08:14:27.657013Z",
     "iopub.status.idle": "2022-07-14T08:14:28.068649Z",
     "shell.execute_reply": "2022-07-14T08:14:28.067674Z",
     "shell.execute_reply.started": "2022-07-14T08:14:27.657236Z"
    }
   },
   "outputs": [],
   "source": [
    "# extract train and valid dataset\n",
    "trn_idx = X_train[X_train['is_train']==True].index.tolist()\n",
    "val_idx = X_train[X_train['is_valid']==True].index.tolist()\n",
    "\n",
    "X_tr = X_train.loc[trn_idx, :].drop(['is_train', 'is_valid'], axis=1)\n",
    "X_val = X_train.loc[val_idx, :].drop(['is_train', 'is_valid'], axis=1)\n",
    "y_tr = y[trn_idx]\n",
    "y_val = y[val_idx]\n",
    "    \n"
   ]
  },
  {
   "cell_type": "code",
   "execution_count": null,
   "metadata": {
    "execution": {
     "iopub.execute_input": "2022-07-14T08:14:28.070649Z",
     "iopub.status.busy": "2022-07-14T08:14:28.070289Z",
     "iopub.status.idle": "2022-07-14T08:14:30.058931Z",
     "shell.execute_reply": "2022-07-14T08:14:30.058177Z",
     "shell.execute_reply.started": "2022-07-14T08:14:28.070600Z"
    }
   },
   "outputs": [],
   "source": [
    "from xgboost import XGBRegressor\n",
    "from xgboost import plot_importance\n",
    "xgb = XGBRegressor(\n",
    "    max_depth=6,\n",
    "    n_estimators=1000,\n",
    "    min_child_weight=50, \n",
    "    colsample_bytree=0.8, \n",
    "    subsample=0.8, \n",
    "    tree_method='gpu_hist',\n",
    "    eta=0.2,    \n",
    "    seed=42)\n",
    "\n",
    "xgb.fit(\n",
    "    X_tr, \n",
    "    y_tr, \n",
    "    eval_metric=\"rmse\", \n",
    "    eval_set=[(X_tr, y_tr), (X_val, y_val)], \n",
    "    verbose=True,\n",
    "    early_stopping_rounds=10)"
   ]
  },
  {
   "cell_type": "code",
   "execution_count": null,
   "metadata": {
    "execution": {
     "iopub.execute_input": "2022-07-14T08:14:30.060419Z",
     "iopub.status.busy": "2022-07-14T08:14:30.060144Z",
     "iopub.status.idle": "2022-07-14T08:14:30.209681Z",
     "shell.execute_reply": "2022-07-14T08:14:30.208995Z",
     "shell.execute_reply.started": "2022-07-14T08:14:30.060382Z"
    }
   },
   "outputs": [],
   "source": [
    "y_pred = xgb.predict(X_test)"
   ]
  },
  {
   "cell_type": "code",
   "execution_count": null,
   "metadata": {
    "execution": {
     "iopub.execute_input": "2022-07-14T08:14:30.215225Z",
     "iopub.status.busy": "2022-07-14T08:14:30.213694Z",
     "iopub.status.idle": "2022-07-14T08:14:30.420203Z",
     "shell.execute_reply": "2022-07-14T08:14:30.419449Z",
     "shell.execute_reply.started": "2022-07-14T08:14:30.215190Z"
    }
   },
   "outputs": [],
   "source": [
    "sub['sales'] = np.exp(np.array(list(map(lambda x: max(x, 0), y_pred))))-1"
   ]
  },
  {
   "cell_type": "code",
   "execution_count": null,
   "metadata": {
    "execution": {
     "iopub.execute_input": "2022-07-14T08:14:30.422035Z",
     "iopub.status.busy": "2022-07-14T08:14:30.421735Z",
     "iopub.status.idle": "2022-07-14T08:14:30.435459Z",
     "shell.execute_reply": "2022-07-14T08:14:30.434732Z",
     "shell.execute_reply.started": "2022-07-14T08:14:30.422001Z"
    }
   },
   "outputs": [],
   "source": [
    "xgb_score = round(xgb.score(X_val, y_val) * 100, 2)\n",
    "xgb_score"
   ]
  },
  {
   "cell_type": "markdown",
   "metadata": {},
   "source": [
    "## LSTM"
   ]
  },
  {
   "cell_type": "code",
   "execution_count": null,
   "metadata": {
    "execution": {
     "iopub.execute_input": "2022-07-14T08:14:49.160254Z",
     "iopub.status.busy": "2022-07-14T08:14:49.159995Z",
     "iopub.status.idle": "2022-07-14T08:14:49.179974Z",
     "shell.execute_reply": "2022-07-14T08:14:49.178842Z",
     "shell.execute_reply.started": "2022-07-14T08:14:49.160226Z"
    }
   },
   "outputs": [],
   "source": [
    "X_tr = X_tr.to_numpy().reshape(X_tr.shape[0], X_tr.shape[1], 1)\n",
    "X_val = X_val.to_numpy().reshape(X_val.shape[0], X_val.shape[1], 1)"
   ]
  },
  {
   "cell_type": "code",
   "execution_count": null,
   "metadata": {
    "execution": {
     "iopub.execute_input": "2022-07-14T08:14:51.199438Z",
     "iopub.status.busy": "2022-07-14T08:14:51.199054Z",
     "iopub.status.idle": "2022-07-14T08:29:34.409249Z",
     "shell.execute_reply": "2022-07-14T08:29:34.408136Z",
     "shell.execute_reply.started": "2022-07-14T08:14:51.199404Z"
    }
   },
   "outputs": [],
   "source": [
    "from keras.models import Sequential\n",
    "from keras.layers import LSTM,Dense,Dropout\n",
    "serie_size =  X_tr.shape[1]\n",
    "model = Sequential()\n",
    "model.add(LSTM(units = 64,input_shape = (serie_size,1)))\n",
    "model.add(Dropout(0.2))\n",
    "model.add(Dense(1))\n",
    "\n",
    "model.compile(loss = 'mse',optimizer = 'adam', metrics = ['mean_squared_error'])\n",
    "model.summary()\n",
    "history = model.fit(X_tr, y_tr, epochs=50, batch_size=72, validation_data=(X_val, y_val), verbose=2, shuffle=False)"
   ]
  },
  {
   "cell_type": "code",
   "execution_count": null,
   "metadata": {
    "execution": {
     "iopub.status.busy": "2022-07-14T08:14:30.478721Z",
     "iopub.status.idle": "2022-07-14T08:14:30.479400Z",
     "shell.execute_reply": "2022-07-14T08:14:30.479129Z",
     "shell.execute_reply.started": "2022-07-14T08:14:30.479098Z"
    }
   },
   "outputs": [],
   "source": [
    "X_test = X_test.to_numpy().reshape(X_test.shape[0], X_test.shape[1], 1)\n",
    "y_pred = model.predict(X_test).clip(0, 125000)"
   ]
  },
  {
   "cell_type": "code",
   "execution_count": null,
   "metadata": {
    "execution": {
     "iopub.status.busy": "2022-07-14T08:14:30.480774Z",
     "iopub.status.idle": "2022-07-14T08:14:30.481451Z",
     "shell.execute_reply": "2022-07-14T08:14:30.481178Z",
     "shell.execute_reply.started": "2022-07-14T08:14:30.481147Z"
    }
   },
   "outputs": [],
   "source": [
    "sub['sales'] = np.exp(np.array(list(map(lambda x: max(x, 0), y_pred))))-1"
   ]
  },
  {
   "cell_type": "code",
   "execution_count": null,
   "metadata": {},
   "outputs": [],
   "source": [
    "# plot history\n",
    "plt.plot(history.history['loss'], label='train')\n",
    "plt.plot(history.history['val_loss'], label='validation')\n",
    "plt.legend()\n",
    "plt.show()"
   ]
  }
 ],
 "metadata": {
  "kernelspec": {
   "display_name": "Python 3 (ipykernel)",
   "language": "python",
   "name": "python3"
  },
  "language_info": {
   "codemirror_mode": {
    "name": "ipython",
    "version": 3
   },
   "file_extension": ".py",
   "mimetype": "text/x-python",
   "name": "python",
   "nbconvert_exporter": "python",
   "pygments_lexer": "ipython3",
   "version": "3.9.7"
  }
 },
 "nbformat": 4,
 "nbformat_minor": 4
}
